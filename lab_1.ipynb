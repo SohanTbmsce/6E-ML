{
  "nbformat": 4,
  "nbformat_minor": 0,
  "metadata": {
    "colab": {
      "provenance": []
    },
    "kernelspec": {
      "name": "python3",
      "display_name": "Python 3"
    },
    "language_info": {
      "name": "python"
    }
  },
  "cells": [
    {
      "cell_type": "code",
      "source": [
        "import pandas as pd\n",
        "# Create a DataFrame directly from a dictionary\n",
        "data = {\n",
        "        'Name': ['Alice', 'Bob', 'Charlie', 'David','Sohan'],\n",
        "        'Marks': [25, 30, 35, 40,45],\n",
        "        'USN': ['1BM23CS421','1BM23CS244','1BM23CS234','1BM23CS456','1BM22CS422']\n",
        "    }\n",
        "df = pd.DataFrame(data)\n",
        "print(\"Sample data:\")\n",
        "print(df.head())\n"
      ],
      "metadata": {
        "colab": {
          "base_uri": "https://localhost:8080/"
        },
        "id": "Hlp1LVT266-n",
        "outputId": "27f343d5-317f-48dd-9a2f-0b9194cf92f7"
      },
      "execution_count": null,
      "outputs": [
        {
          "output_type": "stream",
          "name": "stdout",
          "text": [
            "Sample data:\n",
            "      Name  Marks         USN\n",
            "0    Alice     25  1BM23CS421\n",
            "1      Bob     30  1BM23CS244\n",
            "2  Charlie     35  1BM23CS234\n",
            "3    David     40  1BM23CS456\n",
            "4    Sohan     45  1BM22CS422\n"
          ]
        }
      ]
    },
    {
      "cell_type": "code",
      "source": [
        "from sklearn.datasets import load_diabetes\n",
        "\n",
        "diabetes = load_diabetes()\n",
        "df = pd.DataFrame(diabetes.data, columns=diabetes.feature_names)\n",
        "df['target'] = diabetes.target\n",
        "print(\"Sample data:\")\n",
        "print(df.head())\n"
      ],
      "metadata": {
        "colab": {
          "base_uri": "https://localhost:8080/"
        },
        "id": "HhRJABkH7_Mf",
        "outputId": "4f30262a-577d-4343-a772-4bab1e80c31a"
      },
      "execution_count": null,
      "outputs": [
        {
          "output_type": "stream",
          "name": "stdout",
          "text": [
            "Sample data:\n",
            "        age       sex       bmi        bp        s1        s2        s3  \\\n",
            "0  0.038076  0.050680  0.061696  0.021872 -0.044223 -0.034821 -0.043401   \n",
            "1 -0.001882 -0.044642 -0.051474 -0.026328 -0.008449 -0.019163  0.074412   \n",
            "2  0.085299  0.050680  0.044451 -0.005670 -0.045599 -0.034194 -0.032356   \n",
            "3 -0.089063 -0.044642 -0.011595 -0.036656  0.012191  0.024991 -0.036038   \n",
            "4  0.005383 -0.044642 -0.036385  0.021872  0.003935  0.015596  0.008142   \n",
            "\n",
            "         s4        s5        s6  target  \n",
            "0 -0.002592  0.019907 -0.017646   151.0  \n",
            "1 -0.039493 -0.068332 -0.092204    75.0  \n",
            "2 -0.002592  0.002861 -0.025930   141.0  \n",
            "3  0.034309  0.022688 -0.009362   206.0  \n",
            "4 -0.002592 -0.031988 -0.046641   135.0  \n"
          ]
        }
      ]
    },
    {
      "cell_type": "code",
      "source": [
        "# Load data from a CSV file (replace 'data.csv' with your file path)\n",
        "file_path = 'data.csv'  # Ensure the file exists in the same directory\n",
        "df = pd.read_csv(file_path)\n",
        "print(\"Sample data:\")\n",
        "print(df.head())\n",
        "print(\"\\n\")\n"
      ],
      "metadata": {
        "colab": {
          "base_uri": "https://localhost:8080/"
        },
        "id": "zqyAV-ff8j3W",
        "outputId": "53ece391-50e8-43c1-fbe8-c8bad540901e"
      },
      "execution_count": null,
      "outputs": [
        {
          "output_type": "stream",
          "name": "stdout",
          "text": [
            "Sample data:\n",
            "   ID     Name  Age         City\n",
            "0   1    Alice   25     New York\n",
            "1   2      Bob   30  Los Angeles\n",
            "2   3  Charlie   35      Chicago\n",
            "3   4    David   40      Houston\n",
            "4   5      Eva   28      Phoenix\n",
            "\n",
            "\n"
          ]
        }
      ]
    },
    {
      "cell_type": "code",
      "source": [
        "# Load data from a CSV file (replace 'data.csv' with your file path)\n",
        "file_path = '/content/Dataset of Diabetes .csv'  # Ensure the file exists in the same directory\n",
        "df = pd.read_csv(file_path)\n",
        "print(\"Sample data:\")\n",
        "print(df.head())\n",
        "print(\"\\n\")\n"
      ],
      "metadata": {
        "colab": {
          "base_uri": "https://localhost:8080/"
        },
        "id": "dChwVrlI-K94",
        "outputId": "430d2434-edac-4185-e8fa-8be10cf84850"
      },
      "execution_count": null,
      "outputs": [
        {
          "output_type": "stream",
          "name": "stdout",
          "text": [
            "Sample data:\n",
            "    ID  No_Pation Gender  AGE  Urea  Cr  HbA1c  Chol   TG  HDL  LDL  VLDL  \\\n",
            "0  502      17975      F   50   4.7  46    4.9   4.2  0.9  2.4  1.4   0.5   \n",
            "1  735      34221      M   26   4.5  62    4.9   3.7  1.4  1.1  2.1   0.6   \n",
            "2  420      47975      F   50   4.7  46    4.9   4.2  0.9  2.4  1.4   0.5   \n",
            "3  680      87656      F   50   4.7  46    4.9   4.2  0.9  2.4  1.4   0.5   \n",
            "4  504      34223      M   33   7.1  46    4.9   4.9  1.0  0.8  2.0   0.4   \n",
            "\n",
            "    BMI CLASS  \n",
            "0  24.0     N  \n",
            "1  23.0     N  \n",
            "2  24.0     N  \n",
            "3  24.0     N  \n",
            "4  21.0     N  \n",
            "\n",
            "\n"
          ]
        }
      ]
    },
    {
      "cell_type": "code",
      "source": [
        "import yfinance as yf\n",
        "import pandas as pd\n",
        "import matplotlib.pyplot as plt\n",
        "\n",
        "# Define the ticker symbols\n",
        "tickers = [\"HDFCBANK.NS\", \"ICICIBANK.NS\", \"KOTAKBANK.NS\"]\n",
        "\n",
        "# Fetch historical data for the given date range\n",
        "data = yf.download(tickers, start=\"2024-01-01\", end=\"2024-12-30\", group_by=\"ticker\")\n",
        "\n",
        "# Create a DataFrame to store closing prices\n",
        "closing_prices = pd.DataFrame()\n",
        "daily_returns = pd.DataFrame()\n",
        "\n",
        "for ticker in tickers:\n",
        "    stock_data = data[ticker]\n",
        "\n",
        "    # Store closing prices\n",
        "    closing_prices[ticker] = stock_data[\"Close\"]\n",
        "\n",
        "    # Calculate daily returns\n",
        "    daily_returns[ticker] = stock_data[\"Close\"].pct_change()\n",
        "\n",
        "# Plot Closing Prices\n",
        "plt.figure(figsize=(12, 6))\n",
        "closing_prices.plot(title=\"Closing Prices of Banks\", xlabel=\"Date\", ylabel=\"Price\", figsize=(12, 6))\n",
        "plt.legend(tickers)\n",
        "plt.grid()\n",
        "plt.show()\n",
        "\n",
        "# Plot Daily Returns\n",
        "plt.figure(figsize=(12, 6))\n",
        "daily_returns.plot(title=\"Daily Returns of Banks\", xlabel=\"Date\", ylabel=\"Return\", figsize=(12, 6))\n",
        "plt.legend(tickers)\n",
        "plt.grid()\n",
        "plt.show()\n",
        "\n",
        "print(\"Stock data processing complete.\")\n"
      ],
      "metadata": {
        "id": "Q_WyCJFQ_Zbh"
      },
      "execution_count": null,
      "outputs": []
    },
    {
      "cell_type": "code",
      "source": [
        "import pandas as pd\n",
        "import numpy as np\n",
        "from sklearn.preprocessing import MinMaxScaler, StandardScaler, OneHotEncoder\n",
        "from sklearn.impute import SimpleImputer\n",
        "from sklearn.compose import ColumnTransformer\n",
        "from sklearn.pipeline import Pipeline\n",
        "\n",
        "# Load Diabetes dataset (update with your file path in Google Colab)\n",
        "diabetes_df = pd.read_csv(\"/content/Dataset of Diabetes .csv\")\n",
        "\n",
        "# Load Adult Income dataset (update with your file path in Google Colab)\n",
        "adult_income_df = pd.read_csv(\"/content/Dataset of Diabetes .csv\")\n",
        "\n",
        "# Function for data cleaning and transformations\n",
        "def preprocess_data(df):\n",
        "    # 1. Data Cleaning: Handle Missing Values\n",
        "\n",
        "    # Identify columns with missing values\n",
        "    missing_values = df.isnull().sum()\n",
        "    print(\"Columns with missing values:\\n\", missing_values[missing_values > 0])\n",
        "\n",
        "    # Handle missing values: Use median for numerical columns and most frequent for categorical columns\n",
        "    numerical_cols = df.select_dtypes(include=[\"float64\", \"int64\"]).columns\n",
        "    categorical_cols = df.select_dtypes(include=[\"object\"]).columns\n",
        "\n",
        "    # Impute numerical columns with median, and categorical columns with the most frequent value\n",
        "    imputer = SimpleImputer(strategy='most_frequent')\n",
        "    df[categorical_cols] = imputer.fit_transform(df[categorical_cols])\n",
        "\n",
        "    imputer = SimpleImputer(strategy='median')\n",
        "    df[numerical_cols] = imputer.fit_transform(df[numerical_cols])\n",
        "\n",
        "    # 2. Handling Categorical Data: One-Hot Encoding\n",
        "    print(\"\\nCategorical Columns:\\n\", categorical_cols)\n",
        "\n",
        "    # Apply OneHotEncoder to categorical columns\n",
        "    encoder = OneHotEncoder(drop='first', sparse_output=False)\n",
        "    encoded_categorical_data = encoder.fit_transform(df[categorical_cols])\n",
        "\n",
        "    # Creating a DataFrame for encoded categorical data\n",
        "    encoded_categorical_df = pd.DataFrame(encoded_categorical_data, columns=encoder.get_feature_names_out(categorical_cols))\n",
        "\n",
        "    # Drop original categorical columns and concatenate the encoded columns\n",
        "    df = df.drop(categorical_cols, axis=1)\n",
        "    df = pd.concat([df, encoded_categorical_df], axis=1)\n",
        "\n",
        "    # 3. Handling Outliers: Using Z-score (Optional - can be added if needed)\n",
        "    from scipy import stats\n",
        "    z_scores = np.abs(stats.zscore(df[numerical_cols]))\n",
        "    df = df[(z_scores < 3).all(axis=1)]  # Remove rows with outliers\n",
        "\n",
        "    # 4. Data Transformations: Min-Max Scaling\n",
        "    min_max_scaler = MinMaxScaler()\n",
        "    df[numerical_cols] = min_max_scaler.fit_transform(df[numerical_cols])\n",
        "\n",
        "    # 5. Data Transformations: Standardization\n",
        "    standard_scaler = StandardScaler()\n",
        "    df[numerical_cols] = standard_scaler.fit_transform(df[numerical_cols])\n",
        "\n",
        "    return df\n",
        "\n",
        "\n",
        "# Apply preprocessing for Diabetes dataset\n",
        "diabetes_df = preprocess_data(diabetes_df)\n",
        "print(\"\\nPreprocessed Diabetes Dataset:\")\n",
        "print(diabetes_df.head())\n",
        "\n",
        "# Apply preprocessing for Adult Income dataset\n",
        "adult_income_df = preprocess_data(adult_income_df)\n",
        "print(\"\\nPreprocessed Adult Income Dataset:\")\n",
        "print(adult_income_df.head())\n"
      ],
      "metadata": {
        "id": "SQf7WGxtBam3",
        "colab": {
          "base_uri": "https://localhost:8080/"
        },
        "outputId": "a7925d89-8bfb-4de2-913a-473b1e9816c7"
      },
      "execution_count": null,
      "outputs": [
        {
          "output_type": "stream",
          "name": "stdout",
          "text": [
            "Columns with missing values:\n",
            " Series([], dtype: int64)\n",
            "\n",
            "Categorical Columns:\n",
            " Index(['Gender', 'CLASS'], dtype='object')\n",
            "\n",
            "Preprocessed Diabetes Dataset:\n",
            "         ID  No_Pation       AGE      Urea        Cr     HbA1c      Chol  \\\n",
            "0  0.707921  -0.154715 -0.422575 -0.063109 -0.684758 -1.307234 -0.516819   \n",
            "2  0.362226  -0.085484 -0.422575 -0.063109 -0.684758 -1.307234 -0.516819   \n",
            "3  1.458332   0.006088 -0.422575 -0.063109 -0.684758 -1.307234 -0.516819   \n",
            "4  0.716353  -0.117220 -2.419194  1.207777 -0.684758 -1.307234  0.101811   \n",
            "5  1.264406  -0.117217 -1.009816 -1.333995 -1.623789 -1.663952 -1.665703   \n",
            "\n",
            "         TG       HDL       LDL      VLDL       BMI  Gender_M  Gender_f  \\\n",
            "0 -1.155276  3.231531 -1.173944 -0.479090 -1.110069       0.0       0.0   \n",
            "2 -1.155276  3.231531 -1.173944 -0.479090 -1.110069       0.0       0.0   \n",
            "3 -1.155276  3.231531 -1.173944 -0.479090 -1.110069       0.0       0.0   \n",
            "4 -1.067927 -0.900659 -0.577882 -0.543007 -1.744138       1.0       0.0   \n",
            "5 -1.067927 -0.384136 -1.074600 -0.543007 -1.744138       0.0       0.0   \n",
            "\n",
            "   CLASS_N   CLASS_P  CLASS_Y  CLASS_Y   \n",
            "0       0.0      0.0      0.0       0.0  \n",
            "2       0.0      0.0      0.0       0.0  \n",
            "3       0.0      0.0      0.0       0.0  \n",
            "4       0.0      0.0      0.0       0.0  \n",
            "5       0.0      0.0      0.0       0.0  \n",
            "Columns with missing values:\n",
            " Series([], dtype: int64)\n",
            "\n",
            "Categorical Columns:\n",
            " Index(['Gender', 'CLASS'], dtype='object')\n",
            "\n",
            "Preprocessed Adult Income Dataset:\n",
            "         ID  No_Pation       AGE      Urea        Cr     HbA1c      Chol  \\\n",
            "0  0.707921  -0.154715 -0.422575 -0.063109 -0.684758 -1.307234 -0.516819   \n",
            "2  0.362226  -0.085484 -0.422575 -0.063109 -0.684758 -1.307234 -0.516819   \n",
            "3  1.458332   0.006088 -0.422575 -0.063109 -0.684758 -1.307234 -0.516819   \n",
            "4  0.716353  -0.117220 -2.419194  1.207777 -0.684758 -1.307234  0.101811   \n",
            "5  1.264406  -0.117217 -1.009816 -1.333995 -1.623789 -1.663952 -1.665703   \n",
            "\n",
            "         TG       HDL       LDL      VLDL       BMI  Gender_M  Gender_f  \\\n",
            "0 -1.155276  3.231531 -1.173944 -0.479090 -1.110069       0.0       0.0   \n",
            "2 -1.155276  3.231531 -1.173944 -0.479090 -1.110069       0.0       0.0   \n",
            "3 -1.155276  3.231531 -1.173944 -0.479090 -1.110069       0.0       0.0   \n",
            "4 -1.067927 -0.900659 -0.577882 -0.543007 -1.744138       1.0       0.0   \n",
            "5 -1.067927 -0.384136 -1.074600 -0.543007 -1.744138       0.0       0.0   \n",
            "\n",
            "   CLASS_N   CLASS_P  CLASS_Y  CLASS_Y   \n",
            "0       0.0      0.0      0.0       0.0  \n",
            "2       0.0      0.0      0.0       0.0  \n",
            "3       0.0      0.0      0.0       0.0  \n",
            "4       0.0      0.0      0.0       0.0  \n",
            "5       0.0      0.0      0.0       0.0  \n"
          ]
        }
      ]
    }
  ]
}